{
  "nbformat": 4,
  "nbformat_minor": 0,
  "metadata": {
    "colab": {
      "provenance": []
    },
    "kernelspec": {
      "name": "python3",
      "display_name": "Python 3"
    },
    "language_info": {
      "name": "python"
    }
  },
  "cells": [
    {
      "cell_type": "code",
      "execution_count": null,
      "metadata": {
        "id": "_Y93ZoNztnL8"
      },
      "outputs": [],
      "source": [
        "import time\n",
        "import os\n",
        "import pickle\n",
        "import matplotlib.pyplot as plt\n",
        "plt.rcParams['figure.figsize'] = [8, 8]\n",
        "plt.ioff()\n",
        "import numpy as np\n",
        "#from scipy.spatial.distance import pdist, squareform\n",
        "from sklearn.decomposition import PCA\n",
        "\n",
        "import torch\n",
        "import torch.nn as nn\n",
        "import torchvision.transforms as transforms\n",
        "from torch.autograd import Variable\n",
        "\n",
        "# Set random seed\n",
        "np.random.seed(1)"
      ]
    },
    {
      "cell_type": "markdown",
      "source": [
        "Import Dataset"
      ],
      "metadata": {
        "id": "C9Nyz_vKuIcp"
      }
    },
    {
      "cell_type": "code",
      "source": [
        "file = open('traitData.pkl', 'rb')\n",
        "# -- Your code here -- #\n",
        "\n",
        "data_dictionary = pickle.load(file)\n",
        "\n",
        "trait_names = data_dictionary['names']\n",
        "trait_data = data_dictionary['data']\n",
        "\n",
        "# -------------------- #\n",
        "file.close()"
      ],
      "metadata": {
        "id": "PZrKG4TtuJlV"
      },
      "execution_count": null,
      "outputs": []
    },
    {
      "cell_type": "markdown",
      "source": [
        "Run PCA"
      ],
      "metadata": {
        "id": "IMj7w2PduKZv"
      }
    },
    {
      "cell_type": "code",
      "source": [
        "pca = PCA()\n",
        "\n",
        "transformed_data = pca.fit_transform(trait_data)\n",
        "\n",
        "principal_coefficients = pca.components_\n",
        "\n",
        "explained_ratio_by_components = pca.explained_variance_ratio_"
      ],
      "metadata": {
        "id": "183KWhtKuQsu"
      },
      "execution_count": null,
      "outputs": []
    },
    {
      "cell_type": "markdown",
      "source": [
        "Function to Plot Eigenvectors"
      ],
      "metadata": {
        "id": "Cl-QdF0VuRrn"
      }
    },
    {
      "cell_type": "code",
      "source": [
        "def biplot(data, pc_coeff, labels):\n",
        "    plt.figure()\n",
        "    xs = data[:,0]\n",
        "    ys = data[:,1]\n",
        "    n = pc_coeff.shape[1]\n",
        "    xs = xs/(xs.max() - xs.min())\n",
        "    ys = ys/(ys.max() - ys.min())\n",
        "    plt.scatter(xs, ys )\n",
        "    for i in range(n):\n",
        "        print(labels[i], pc_coeff[0,i], pc_coeff[1,i])\n",
        "        plt.arrow(0, 0, pc_coeff[0,i], pc_coeff[1,i], color = 'r', alpha = 0.7)\n",
        "        plt.text(pc_coeff[0,i] + np.sign(pc_coeff[0,i]) * 0.02, pc_coeff[1,i] + np.sign(pc_coeff[1,i]) * 0.02, labels[i], color = 'g', ha = 'center', va = 'center')\n",
        "    plt.xlabel('PC1')\n",
        "    plt.ylabel('PC2')\n",
        "    plt.title('Data projected into Eigenvector Space')\n",
        "    plt.grid()\n",
        "    plt.show()"
      ],
      "metadata": {
        "id": "R3iOy588uXek"
      },
      "execution_count": null,
      "outputs": []
    },
    {
      "cell_type": "markdown",
      "source": [
        "Projecting Variables in Eigenspace"
      ],
      "metadata": {
        "id": "dv_DRqBnuX--"
      }
    },
    {
      "cell_type": "code",
      "source": [
        "biplot(transformed_data, principal_coefficients, trait_names)"
      ],
      "metadata": {
        "id": "qHhPebnhucHB"
      },
      "execution_count": null,
      "outputs": []
    },
    {
      "cell_type": "markdown",
      "source": [
        "Calculating Cummlative Variance"
      ],
      "metadata": {
        "id": "JS2_PvvfuzAW"
      }
    },
    {
      "cell_type": "code",
      "source": [
        "cumulative_variance = np.cumsum(faces_explained_ratio_by_components)\n",
        "\n",
        "n = np.argmax(cumulative_variance >= 0.95) + 1\n",
        "\n",
        "print(f\"Number of components needed to explain at least 95% of variance: {n}\")"
      ],
      "metadata": {
        "id": "jpIj0QRGu1dN"
      },
      "execution_count": null,
      "outputs": []
    },
    {
      "cell_type": "markdown",
      "source": [
        "Plotting Cumm Variance"
      ],
      "metadata": {
        "id": "qiwzgjd-u6Ex"
      }
    },
    {
      "cell_type": "code",
      "source": [
        "plt.figure()\n",
        "\n",
        "plt.scatter(range(1, len(cumulative_variance) + 1), cumulative_variance * 100)\n",
        "\n",
        "plt.xlabel('Number of Principal Components')\n",
        "plt.ylabel('Percent of Cumulative Explained Bariance')\n",
        "\n",
        "plt.show()"
      ],
      "metadata": {
        "id": "-EXA3MjsvJKS"
      },
      "execution_count": null,
      "outputs": []
    },
    {
      "cell_type": "markdown",
      "source": [
        "________________________________________________\n",
        "SVM"
      ],
      "metadata": {
        "id": "Z9SvWLyryYex"
      }
    },
    {
      "cell_type": "code",
      "source": [
        "from sklearn.svm import SVC # \"Support vector classifier\"\n",
        "model = SVC(kernel='linear', C=1E10)"
      ],
      "metadata": {
        "id": "FNqKyo8NykxA"
      },
      "execution_count": null,
      "outputs": []
    },
    {
      "cell_type": "markdown",
      "source": [
        "Reference: https://colab.research.google.com/github/jakevdp/PythonDataScienceHandbook/blob/master/notebooks/05.07-Support-Vector-Machines.ipynb#scrollTo=EXxuhmx1ySBD"
      ],
      "metadata": {
        "id": "0pnYfgax0CCh"
      }
    }
  ]
}