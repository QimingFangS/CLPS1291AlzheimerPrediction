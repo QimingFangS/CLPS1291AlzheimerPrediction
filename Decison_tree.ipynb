{
  "nbformat": 4,
  "nbformat_minor": 0,
  "metadata": {
    "colab": {
      "provenance": []
    },
    "kernelspec": {
      "name": "python3",
      "display_name": "Python 3"
    },
    "language_info": {
      "name": "python"
    }
  },
  "cells": [
    {
      "cell_type": "code",
      "execution_count": 1,
      "metadata": {
        "id": "V53KvWCvfjKu"
      },
      "outputs": [],
      "source": [
        "from sklearn import tree\n",
        "\n",
        "# Fit decision tree\n",
        "# need data_X_train, data_Y_train\n",
        "\n",
        "clf = tree.DecisionTreeClassifier()\n",
        "clf = clf.fit(data_X_train, data_Y_train)\n",
        "\n",
        "# Evaluate on test dataset\n",
        "# need data_X_test, data_Y_test\n",
        "\n",
        "sum = 0\n",
        "for i in range(np.arange(len(data_Y_test))):\n",
        "  sum += (clf.predict(data_X_test[i]) == data_Y_test[i])\n",
        "\n",
        "test_acc = sum / len(data_Y_test)\n",
        "print(f\"Testing accuracy for decision tree is {test_acc:.2f}\")\n",
        "\n",
        "# Plot decision tree\n",
        "\n",
        "tree.plot_tree(clf)"
      ]
    }
  ]
}