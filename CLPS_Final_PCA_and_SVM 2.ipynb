{
  "nbformat": 4,
  "nbformat_minor": 0,
  "metadata": {
    "colab": {
      "provenance": []
    },
    "kernelspec": {
      "name": "python3",
      "display_name": "Python 3"
    },
    "language_info": {
      "name": "python"
    }
  },
  "cells": [
    {
      "cell_type": "code",
      "execution_count": null,
      "metadata": {
        "id": "_Y93ZoNztnL8"
      },
      "outputs": [],
      "source": [
        "import time\n",
        "import os\n",
        "import pickle\n",
        "import matplotlib.pyplot as plt\n",
        "plt.rcParams['figure.figsize'] = [8, 8]\n",
        "plt.ioff()\n",
        "import numpy as np\n",
        "#from scipy.spatial.distance import pdist, squareform\n",
        "from sklearn.decomposition import PCA\n",
        "\n",
        "import torch\n",
        "import torch.nn as nn\n",
        "import torchvision.transforms as transforms\n",
        "from torch.autograd import Variable\n",
        "\n",
        "# Set random seed\n",
        "np.random.seed(1)"
      ]
    },
    {
      "cell_type": "code",
      "source": [
        "# from google.colab import drive\n",
        "# drive.mount('/content/drive')"
      ],
      "metadata": {
        "id": "y7mUill5UVN0"
      },
      "execution_count": null,
      "outputs": []
    },
    {
      "cell_type": "markdown",
      "source": [
        "Import Dataset"
      ],
      "metadata": {
        "id": "C9Nyz_vKuIcp"
      }
    },
    {
      "cell_type": "code",
      "source": [
        "# file = open('traitData.pkl', 'rb')\n",
        "# # -- Your code here -- #\n",
        "\n",
        "# data_dictionary = pickle.load(file)\n",
        "\n",
        "# trait_names = data_dictionary['names']\n",
        "# trait_data = data_dictionary['data']\n",
        "\n",
        "# # -------------------- #\n",
        "# file.close()\n",
        "\n",
        "import pandas as pd\n",
        "\n",
        "# Replace 'path/to/your/file.csv' with the actual path to your file\n",
        "data = pd.read_csv('/content/Copy of hals_biomarker_ld_07dec23 - Cols Deleted and Preprocessed - Empty items filled with average.csv')\n",
        "# data = pd.read_csv('/content/drive/MyDrive/5th Semester/CLPS 1291/CLPS1291 Final Project/Copy of hals_biomarker_ld_07dec23 - Cols Deleted.csv')\n",
        "\n",
        "# print(data)\n",
        "\n",
        "# Access remaining data\n",
        "# trait_names = data.iloc[0].tolist()\n",
        "trait_names = list(data.columns)\n",
        "trait_data = data.iloc[0:].values\n",
        "\n",
        "print(trait_names)"
      ],
      "metadata": {
        "id": "PZrKG4TtuJlV",
        "colab": {
          "base_uri": "https://localhost:8080/"
        },
        "outputId": "a149de0d-5798-4d72-db76-257d869cba76"
      },
      "execution_count": null,
      "outputs": [
        {
          "output_type": "stream",
          "name": "stdout",
          "text": [
            "['Family_History_AD_1', 'Type_of_Schools_1', 'Type_of_Schools_1a', 'Type_of_Schools_2', 'Lifetime_Work_2', 'Background_1', 'Background_1_1_TEXT', 'SES_4', 'Tobacco_1a_35', 'Tobacco_1_25', 'Tobacco_1_50', 'Weight', 'Height', 'Waist', 'Hip', 'HVLT1C60', 'HVLT2C60', 'HVLT3C60', 'HVLTDTTP60', 'HVLTDSRFP60', 'HVLTDSUFP60', 'HVLTDTFP60', 'HVLTDRT_RT_2_1', 'CTSCORES_1_2', 'CTSCORES_2_2', 'StroopIT', 'WAIS_R_values_1_2', 'WAIS_R_values_2_2', 'WAIS_R_values_3_2', 'WAIS_R_values_4_2', 'WAIS_R_values_5_2', 'WRAT_Reading_1_2', 'WMSRAW_1_3', 'WMSRAW_2_3', 'BNT_TotalScore', 'Sleep_4', 'Cancer_1', 'Ab40', 'Ab42', 'NFL', 'GFAP', 'pTau181', 'pTau231', 'pTau217', 'DEMO0D', 'AGE7', 'C31', 'ged', 'LDHEINDEL3', 'white', 'sex', 'SH1E2R', 'fsiq', 'rstand', 'sstand', 'astand', 'viq', 'piq', 'infos', 'vocabs', 'dspans', 'parrs', 'bdesns', 'codes', 'VIQ35', 'COMPS35', 'VOCS35', 'PARRS35', 'BDS35', 'fastc', 'lmimmtot', 'bntspon', 'bnttotal', 'DEMO6I', 'INTVW_AGE', 'comps', 'DSPANS35', 'lmdeltot', 'INFS35', 'strpraww', 'FSIQ35', 'PIQ35', 'CODES35', 'REYO1', 'STRPRAW1', 'READR35', 'SPELLR35', 'DEMO6H', 'ARITHR35', 'REYO2', 'strprawc', 'REYT2', 'fastotad', 'TRAIL1SE', 'TRAIL1ER', 'TRAIL2ER', 'edattaingrp', 'TRAIL2SE', 'ADVERSE2_Q4', 'environshift', 'SEI7', 'REYT3', 'REYO3', 'C294', 'HOUSEHOLDINC_CAT', 'CROWDED2', 'MOVED2', 'marchgn', 'VOCATIONAL_HS', 'C514', 'PS420_72', 'SH1DY', 'DEMO2A', 'DEMO4B', 'DEMO4C', 'DEMO2E', 'DEMO2E1', 'READS35', 'SPELLS35', 'ARITHS35', 'SH1A', 'SH1D', 'SH1E1', 'SH1E2', 'SH1E3', 'SH1H', 'SH1HA0', 'SH1HA1', 'SH1HA2', 'SH1HA3', 'SH1HA4', 'SH1HA8', 'SH1HA9', 'SH1IA', 'SH1IB', 'SH1IC', 'SH1I10', 'SH1I11', 'SH1I12', 'SH1I12A', 'SH1I12B', 'SH1I12C', 'SH1I13', 'SH1I14', 'SH1I15', 'SH1I17', 'SH1I18', 'SH1I20', 'SH1I22', 'SH1I25', 'SH1I26', 'SH1I27', 'SH1I28', 'SH1I29', 'SH1I30', 'SH1I31', 'SH1I32', 'SH1J0A', 'SH1J0D', 'SH1J1', 'SH1J4', 'SH1DX', 'SH1DZ', 'FSIQ7_STD', 'FSIQ35_STD', 'CRYSTAL35_STD', 'FLUID35_STD', 'EPISODIC_MEMORY_STD', 'EXECUTIVE_FUNCTION_STD', 'PROCESSING_SPEED_STD', 'digspanr', 'digspans', 'vocabr', 'blkdesr', 'blkdess', 'digsymbr', 'digsymbs', 'C478', 'C479', 'C489', 'C490', 'SINGLEMOM7', 'sepdivmar', 'moved', 'UNEMPDAD7', 'sibdeaths', 'crowded', 'paredlow', 'MANUAL_07', 'POVERTY200', 'FH409_61', 'mommi', 'dadmi', 'parentmi', 'fammi']\n"
          ]
        }
      ]
    },
    {
      "cell_type": "markdown",
      "source": [
        "Run PCA"
      ],
      "metadata": {
        "id": "IMj7w2PduKZv"
      }
    },
    {
      "cell_type": "code",
      "source": [
        "from sklearn.impute import SimpleImputer\n",
        "\n",
        "pca = PCA()\n",
        "\n",
        "imputer = SimpleImputer(strategy='mean')\n",
        "transformed_data = imputer.fit_transform(trait_data)\n",
        "\n",
        "transformed_data = pca.fit_transform(transformed_data)\n",
        "\n",
        "principal_coefficients = pca.components_\n",
        "\n",
        "explained_ratio_by_components = pca.explained_variance_ratio_"
      ],
      "metadata": {
        "id": "183KWhtKuQsu"
      },
      "execution_count": null,
      "outputs": []
    },
    {
      "cell_type": "markdown",
      "source": [
        "Function to Plot Eigenvectors"
      ],
      "metadata": {
        "id": "Cl-QdF0VuRrn"
      }
    },
    {
      "cell_type": "code",
      "source": [
        "def biplot(data, pc_coeff, labels):\n",
        "    plt.figure()\n",
        "    xs = data[:,0]\n",
        "    ys = data[:,1]\n",
        "    n = pc_coeff.shape[1]\n",
        "    xs = xs/(xs.max() - xs.min())\n",
        "    ys = ys/(ys.max() - ys.min())\n",
        "    plt.scatter(xs, ys )\n",
        "    for i in range(n):\n",
        "        print(labels[i], pc_coeff[0,i], pc_coeff[1,i])\n",
        "        plt.arrow(0, 0, pc_coeff[0,i], pc_coeff[1,i], color = 'r', alpha = 0.7)\n",
        "        plt.text(pc_coeff[0,i] + np.sign(pc_coeff[0,i]) * 0.02, pc_coeff[1,i] + np.sign(pc_coeff[1,i]) * 0.02, labels[i], color = 'g', ha = 'center', va = 'center')\n",
        "    plt.xlabel('PC1')\n",
        "    plt.ylabel('PC2')\n",
        "    plt.title('Data projected into Eigenvector Space')\n",
        "    plt.grid()\n",
        "    plt.show()"
      ],
      "metadata": {
        "id": "R3iOy588uXek"
      },
      "execution_count": null,
      "outputs": []
    },
    {
      "cell_type": "markdown",
      "source": [
        "Projecting Variables in Eigenspace"
      ],
      "metadata": {
        "id": "dv_DRqBnuX--"
      }
    },
    {
      "cell_type": "code",
      "source": [
        "biplot(transformed_data, principal_coefficients, trait_names)"
      ],
      "metadata": {
        "id": "qHhPebnhucHB",
        "colab": {
          "base_uri": "https://localhost:8080/",
          "height": 1000
        },
        "outputId": "3ce51c85-db42-4cf8-8e71-801dc8a476e3"
      },
      "execution_count": null,
      "outputs": [
        {
          "output_type": "stream",
          "name": "stdout",
          "text": [
            "Family_History_AD_1 -3.910856750788394e-05 -0.0009100631877510534\n",
            "Type_of_Schools_1 0.000713804114845451 -0.0010596121781035195\n",
            "Type_of_Schools_1a 0.0 -2.220446049250313e-16\n",
            "Type_of_Schools_2 0.00037385053128940847 -0.0008413569804479604\n",
            "Lifetime_Work_2 0.000486112155122079 -0.0007225911928374906\n",
            "Background_1 6.617444900424222e-24 6.938893903907228e-18\n",
            "Background_1_1_TEXT -0.0006744842533857295 -0.002093886516433382\n",
            "SES_4 -0.003438140112520293 0.0009935767817439928\n",
            "Tobacco_1a_35 -0.00017260997147964578 3.7675729984998556e-05\n",
            "Tobacco_1_25 0.00014253809019813723 0.0004910973418491986\n",
            "Tobacco_1_50 0.0003888543355726938 0.0008995317134152997\n",
            "Weight 0.02681444938238699 -0.25853137006958476\n",
            "Height -0.0012370394660614426 -0.02009250129407338\n",
            "Waist 0.02275380131705256 -0.04354773265123953\n",
            "Hip 0.01613901789425942 -0.020222537219328117\n",
            "HVLT1C60 -0.0010645406004620925 0.000780681023302279\n",
            "HVLT2C60 -0.000677311229293914 0.0022539430114776955\n",
            "HVLT3C60 -0.0010279600194743564 0.0014176959075371625\n",
            "HVLTDTTP60 -0.0006077523621960384 0.00034136394864154956\n",
            "HVLTDSRFP60 0.0002993508614579237 -0.0013698746010577772\n",
            "HVLTDSUFP60 0.000175683800312339 -0.00036919278531568684\n",
            "HVLTDTFP60 0.0003990289312265118 -0.0018433721731897792\n",
            "HVLTDRT_RT_2_1 -0.001799500704656229 0.0027572449037128748\n",
            "CTSCORES_1_2 0.002955196343033152 0.01410121916693796\n",
            "CTSCORES_2_2 -0.0013424891391839997 0.012539751790244632\n",
            "StroopIT -0.0010497403630873052 0.0026574627130001613\n",
            "WAIS_R_values_1_2 -0.0008070486270663849 0.001230032298703382\n",
            "WAIS_R_values_2_2 -0.0013569455349256424 0.0006758822025187101\n",
            "WAIS_R_values_3_2 -0.002621016490853899 0.0022373847633383663\n",
            "WAIS_R_values_4_2 0.0009289037917676277 0.008335943994405147\n",
            "WAIS_R_values_5_2 -0.0021893038254419983 0.0038490223785455193\n",
            "WRAT_Reading_1_2 -0.005650967843457748 0.006255015747618079\n",
            "WMSRAW_1_3 -0.006194989804477026 0.003124346787477227\n",
            "WMSRAW_2_3 -0.006710975365093138 0.010049631968677452\n",
            "BNT_TotalScore -0.001839059918131907 0.006137499245033479\n",
            "Sleep_4 -1.4406460699576528e-05 -5.878873501207261e-05\n",
            "Cancer_1 7.92713135357501e-05 0.00023510591706622007\n",
            "Ab40 -0.016685059838012568 0.5856163479521896\n",
            "Ab42 -0.002907486964427941 0.021254461709516385\n",
            "NFL -0.003334241493720616 0.6244439842558044\n",
            "GFAP -0.030910085334320315 0.4070793723343827\n",
            "pTau181 -0.0013026957917220273 0.02002168533128837\n",
            "pTau231 -0.0001537510341456829 0.08096474481849905\n",
            "pTau217 -0.0018532390464740176 0.009229818713243267\n",
            "DEMO0D -0.0005079774630699216 2.1279714461216367e-06\n",
            "AGE7 3.0384106107907643e-06 0.00044151550111946875\n",
            "C31 -0.00333223175398189 -0.0017815517581820828\n",
            "ged 0.000317461538783034 -0.0002584341144216629\n",
            "LDHEINDEL3 0.000573263691864852 0.00017164784915018252\n",
            "white -0.00013283709973831569 -0.00032437592236707856\n",
            "sex -0.0001954095397368818 0.0011745983805828183\n",
            "SH1E2R 0.00020655082183243233 0.00011822925505269451\n",
            "fsiq -0.015267037392902966 0.013897505328000262\n",
            "rstand -0.021924729661996656 0.0015565210554088517\n",
            "sstand -0.017268561418896114 0.006687443365038281\n",
            "astand -0.010662617896539092 -0.0031220436681032\n",
            "viq -0.012160388812357682 0.0013452506727387147\n",
            "piq -0.015716919407251173 0.02482359946050667\n",
            "infos -0.0032743755468546405 -0.0014608132887354497\n",
            "vocabs 0.003149173315699818 0.015116774263470613\n",
            "dspans -0.0025707026808533605 0.001512624938361249\n",
            "parrs -0.002606206079023838 0.001805198482237824\n",
            "bdesns -0.0028240052015866407 0.0016119873606755348\n",
            "codes -0.0013853696232743351 0.006871625869050719\n",
            "VIQ35 -0.01213295322242205 0.008300703301682191\n",
            "COMPS35 -0.0017388399086219874 0.0006924952682259666\n",
            "VOCS35 -0.0022160743212038753 0.0024821056089841145\n",
            "PARRS35 -0.00045936137746620676 0.0025345270655677886\n",
            "BDS35 -0.0025991611795505585 -0.0031507488685453932\n",
            "fastc -0.005178551081198782 0.034939033134776636\n",
            "lmimmtot -0.006384819810513596 0.006214806401216138\n",
            "bntspon -0.0017586768911390883 0.005687752092964982\n",
            "bnttotal -0.0016802570428497104 0.0047913034867771214\n",
            "DEMO6I 0.0009437083358997246 -0.00047886243936808123\n",
            "INTVW_AGE -0.0005079774630699216 2.1279714461216367e-06\n",
            "comps -0.0008095501751596954 -0.0004431962552944703\n",
            "DSPANS35 -0.0015325967496863052 0.0034414410917174335\n",
            "lmdeltot -0.006146323852399387 0.014865701038856307\n",
            "INFS35 -0.002092047268071612 0.0013717970797218872\n",
            "strpraww -0.002227388214491371 0.013938496307327491\n",
            "FSIQ35 -0.015153725544953422 0.008258404641222046\n",
            "PIQ35 -0.014847926040798636 0.005362161850873029\n",
            "CODES35 -0.0025404993957877584 0.004148691901825141\n",
            "REYO1 -0.0013003909704249988 0.0034506491533061886\n",
            "STRPRAW1 -0.0028573839048485167 0.0060984847661210645\n",
            "READR35 -0.0073471779916675275 0.008616311685909355\n",
            "SPELLR35 -0.011693594370755832 0.01794996517639074\n",
            "DEMO6H -0.0010219524784113201 0.0008372854877704148\n",
            "ARITHR35 -0.006401986646962018 0.005670323650237787\n",
            "REYO2 -0.0012282778971075758 -0.004521963391188471\n",
            "strprawc -0.0010420251392394245 0.0060696616765079535\n",
            "REYT2 -0.00411593155800718 -0.00616763984965011\n",
            "fastotad -0.00150189835706182 0.02943086478834408\n",
            "TRAIL1SE 0.004246004724063393 0.005723209579678361\n",
            "TRAIL1ER 0.0003781878311405733 3.340634411224509e-05\n",
            "TRAIL2ER 0.00041463054602330196 -0.00018365866061092432\n",
            "edattaingrp -0.0018716191549640073 0.0036018019249833876\n",
            "TRAIL2SE 0.02234878804247714 -0.013477230614929834\n",
            "ADVERSE2_Q4 0.00045386403560829794 0.00036789951693398605\n",
            "environshift 7.252974333708206e-05 3.650369860390617e-05\n",
            "SEI7 -0.02060927633062781 0.017776488151000212\n",
            "REYT3 -0.0037853052705036764 -0.0023195940056666884\n",
            "REYO3 -0.0017141423560634809 -0.0038386648262774283\n",
            "C294 -0.0021540264756449495 0.0011472741578142879\n",
            "HOUSEHOLDINC_CAT -0.0007921885632609124 0.0029159850336299793\n",
            "CROWDED2 5.38297070699452e-05 -0.0011698233651357378\n",
            "MOVED2 0.0005496409937535023 -0.0003913441649539926\n",
            "marchgn 0.00021774092448281453 0.0019997454465926203\n",
            "VOCATIONAL_HS 0.0003641631656069891 -0.00033833660493440184\n",
            "C514 -0.012829151765080779 0.02121081762102625\n",
            "PS420_72 0.00012828317445808305 -0.0006963189941487602\n",
            "SH1DY 0.00015909758162497857 -0.00043343158410267385\n",
            "DEMO2A -0.00013291994879318324 0.0003287694381749222\n",
            "DEMO4B -0.004569580471976842 0.001812219112070264\n",
            "DEMO4C -0.0037311325624247954 0.00892410584397829\n",
            "DEMO2E -0.00466536520668946 0.0015111475116432345\n",
            "DEMO2E1 0.9935445887658063 0.04405000028479235\n",
            "READS35 -0.015081266730204611 0.02004998808883074\n",
            "SPELLS35 -0.02555989163451437 0.0438426040897904\n",
            "ARITHS35 -0.01518258881488643 0.014534636701413108\n",
            "SH1A 0.0001314022328068198 -7.973298259689499e-05\n",
            "SH1D -0.04201538856981589 0.055224140942671404\n",
            "SH1E1 -0.0038430048312860622 0.009092109225523374\n",
            "SH1E2 3.8522180436320346e-05 0.0008140142767925048\n",
            "SH1E3 0.0004037502682803467 0.0471691682867858\n",
            "SH1H -0.00024393360725302084 -0.0005304044924048164\n",
            "SH1HA0 0.0003318911718882851 -4.418562022565661e-05\n",
            "SH1HA1 -0.00025336207473820735 -0.00029660765725920507\n",
            "SH1HA2 -0.0002628401682892706 6.616658142173929e-05\n",
            "SH1HA3 -0.00039840218278061975 2.472929736640905e-05\n",
            "SH1HA4 -0.00039501102351983134 -5.592504425619504e-05\n",
            "SH1HA8 0.0 0.0\n",
            "SH1HA9 0.0 0.0\n",
            "SH1IA 0.0006208918961809905 -0.00032142192589629893\n",
            "SH1IB 0.000907702649912556 -0.0028991703151554533\n",
            "SH1IC -4.918914568429413e-05 -0.0015754572543729374\n",
            "SH1I10 0.00023792526948177475 5.0672194771983046e-05\n",
            "SH1I11 0.0002341100234524992 -9.738849753143703e-05\n",
            "SH1I12 0.00028610729891040507 -0.0005933764056396222\n",
            "SH1I12A 0.00045762709491033177 -0.00016010707468088503\n",
            "SH1I12B 0.000419527998128016 -0.00034739762317040747\n",
            "SH1I12C 0.0003012851765772421 6.984772505430389e-05\n",
            "SH1I13 0.0004668001022372042 -0.0010003454287388885\n",
            "SH1I14 0.0009907831446252311 0.00017386901054326003\n",
            "SH1I15 0.0005440420421173444 -0.0001993180832506435\n",
            "SH1I17 -4.738621518672738e-05 -0.00037688648875236014\n",
            "SH1I18 0.00012104280752775823 -0.00048027344156907793\n",
            "SH1I20 0.0003179879729550257 0.0009166829015348065\n",
            "SH1I22 0.00023856178559278666 -0.00017244664359658714\n",
            "SH1I25 0.00029814322990165057 -0.0003741969209459112\n",
            "SH1I26 0.00022350999791829817 -0.0003976363037192511\n",
            "SH1I27 0.00038954671178175056 -0.00013576246620957677\n",
            "SH1I28 0.00037821198644215885 -0.00012744556072445302\n",
            "SH1I29 0.0003650758403113052 -0.00042776621019265386\n",
            "SH1I30 0.00044561552474944453 -0.00017552865878303007\n",
            "SH1I31 -0.0009677254448852654 0.0001128513074993463\n",
            "SH1I32 -0.002522069131276751 0.024551765187927784\n",
            "SH1J0A 0.00013821673886932258 -0.0001590928417162997\n",
            "SH1J0D 0.0005679230627201816 0.0008236968609724095\n",
            "SH1J1 0.0005432589765717808 -0.0011302256112754206\n",
            "SH1J4 6.48121596077361e-05 -0.000560054741341178\n",
            "SH1DX -0.0399709525125089 0.04897143597204717\n",
            "SH1DZ -0.03879440416417448 0.05327982512481766\n",
            "FSIQ7_STD -0.0012448366226823632 0.0011331683516539234\n",
            "FSIQ35_STD -0.0012490751865298986 0.0006807150022918509\n",
            "CRYSTAL35_STD -0.000925798508337611 0.0007011714036124483\n",
            "FLUID35_STD -0.0009222984800211283 -0.0011180264289505242\n",
            "EPISODIC_MEMORY_STD -0.0007680911663361246 0.0006554953415284083\n",
            "EXECUTIVE_FUNCTION_STD -0.0006984997672285335 0.0011553786674241304\n",
            "PROCESSING_SPEED_STD -0.0007870523906804395 0.0018486240371104526\n",
            "digspanr 0.004247616632031469 0.019002159412999365\n",
            "digspans 0.0043975825357487975 0.016884517958983356\n",
            "vocabr -0.002548799872913296 0.03330045887430447\n",
            "blkdesr -0.00522361495582308 -0.00759855365664474\n",
            "blkdess -0.002424067739902503 -0.0032634310615121897\n",
            "digsymbr -0.008634956902025405 0.022132262101685892\n",
            "digsymbs -0.0024759593839356582 0.004070901434964014\n",
            "C478 -0.0001426153778202083 -0.00015305461773601156\n",
            "C479 -6.810994875948797e-05 -8.86960570346208e-05\n",
            "C489 -1.7505286792233475e-05 5.850545752083884e-05\n",
            "C490 7.789116549808483e-06 4.4238176773971504e-05\n",
            "SINGLEMOM7 8.64634829254491e-05 0.0007173138810576308\n",
            "sepdivmar 0.00013513348640838314 0.000958255175894671\n",
            "moved 8.890832872121606e-05 -0.0002674864090530672\n",
            "UNEMPDAD7 1.194736474215533e-05 -0.00020550927342626783\n",
            "sibdeaths 3.689267576921989e-07 -4.884413819823546e-05\n",
            "crowded -6.69631405694458e-05 -0.0002550636966309087\n",
            "paredlow 0.00021246430206708957 -0.0010371636448163423\n",
            "MANUAL_07 0.0004553561871601184 0.00029849947866782833\n",
            "POVERTY200 0.00024199712993153386 -7.520088925606635e-05\n",
            "FH409_61 -0.00032597136247000024 -0.000487502283778595\n",
            "mommi -0.00016459271659598237 -0.0001835768200609869\n",
            "dadmi -8.47461318486961e-07 -0.00010654944830758912\n",
            "parentmi -0.00011430562707563927 -0.0002889109833727386\n",
            "fammi -9.024355757304051e-05 -0.00026781715401527016\n"
          ]
        },
        {
          "output_type": "display_data",
          "data": {
            "text/plain": [
              "<Figure size 800x800 with 1 Axes>"
            ],
            "image/png": "[encoded data removed]"
          },
          "metadata": {}
        }
      ]
    },
    {
      "cell_type": "markdown",
      "source": [
        "Calculating Cummlative Variance"
      ],
      "metadata": {
        "id": "JS2_PvvfuzAW"
      }
    },
    {
      "cell_type": "code",
      "source": [
        "faces_explained_ratio_by_components = pca.explained_variance_ratio_\n",
        "\n",
        "cumulative_variance = np.cumsum(faces_explained_ratio_by_components)\n",
        "\n",
        "n = np.argmax(cumulative_variance >= 0.95) + 1\n",
        "\n",
        "print(f\"Number of components needed to explain at least 95% of variance: {n}\")\n",
        "\n",
        "component_explaining_variance = explained_ratio_by_components[:n]\n",
        "\n",
        "print(f\"Component explaining at least 95% of variance: {component_explaining_variance}\")"
      ],
      "metadata": {
        "id": "jpIj0QRGu1dN",
        "colab": {
          "base_uri": "https://localhost:8080/"
        },
        "outputId": "7e57a6ac-7e02-4743-f128-dd8db37416d7"
      },
      "execution_count": null,
      "outputs": [
        {
          "output_type": "stream",
          "name": "stdout",
          "text": [
            "Number of components needed to explain at least 95% of variance: 8\n",
            "Component explaining at least 95% of variance: [0.79368666 0.0548636  0.03394198 0.02235803 0.02123407 0.01121905\n",
            " 0.00989474 0.00866503]\n"
          ]
        }
      ]
    },
    {
      "cell_type": "markdown",
      "source": [
        "Plotting Cumm Variance"
      ],
      "metadata": {
        "id": "qiwzgjd-u6Ex"
      }
    },
    {
      "cell_type": "code",
      "source": [
        "plt.figure()\n",
        "\n",
        "plt.scatter(range(1, len(cumulative_variance) + 1), cumulative_variance * 100)\n",
        "\n",
        "plt.xlabel('Number of Principal Components')\n",
        "plt.ylabel('Percent of Cumulative Explained Bariance')\n",
        "\n",
        "plt.show()"
      ],
      "metadata": {
        "id": "-EXA3MjsvJKS",
        "colab": {
          "base_uri": "https://localhost:8080/",
          "height": 696
        },
        "outputId": "9e29d116-873a-4a4d-f4d3-6bd2dbf6f79e"
      },
      "execution_count": null,
      "outputs": [
        {
          "output_type": "display_data",
          "data": {
            "text/plain": [
              "<Figure size 800x800 with 1 Axes>"
            ],
            "image/png": "[encoded data removed]"
          },
          "metadata": {}
        }
      ]
    },
    {
      "cell_type": "code",
      "source": [
        "principal_components_df = pd.DataFrame(principal_coefficients, columns=trait_names)\n",
        "\n",
        "principal_components_df = principal_components_df.abs().sort_values(by=trait_names, ascending=False)"
      ],
      "metadata": {
        "id": "4I8E6epr6y9Y"
      },
      "execution_count": null,
      "outputs": []
    },
    {
      "cell_type": "markdown",
      "source": [
        "________________________________________________\n",
        "SVM"
      ],
      "metadata": {
        "id": "Z9SvWLyryYex"
      }
    },
    {
      "cell_type": "code",
      "source": [
        "from sklearn.svm import SVR # \"Support vector classifier\"\n",
        "from sklearn.model_selection import train_test_split\n",
        "from sklearn.metrics import mean_squared_error\n",
        "\n",
        "model = SVR(kernel='linear', C = 1E10)\n",
        "\n",
        "\n",
        "# Separate features and target\n",
        "# X = data.drop(\"Ab40\",\t\"Ab42\",\t\"NFL\",\t\"GFAP\",\t\"pTau181\",\t\"pTau231\",\t\"pTau217\", axis=1)\n",
        "# y = data[(\"Ab40\",\t\"Ab42\",\t\"NFL\",\t\"GFAP\",\t\"pTau181\",\t\"pTau231\",\t\"pTau217\")]\n",
        "\n",
        "dependent_variables = [\"Ab40\",\t\"Ab42\",\t\"NFL\",\t\"GFAP\",\t\"pTau181\",\t\"pTau231\",\t\"pTau217\"]\n",
        "\n",
        "X = data.drop(dependent_variables, axis = 1)\n",
        "y = data[dependent_variables[0]]\n",
        "\n",
        "print(y)\n",
        "\n",
        "\n",
        "\n",
        "X_train, X_test, y_train, y_test = train_test_split(X, y, test_size=0.5)\n",
        "\n",
        "model.fit(X_train, y_train)\n",
        "\n",
        "y_pred = model.predict(X_test)\n",
        "\n",
        "# Evaluate model\n",
        "accuracy = mean_squared_error(y_test, y_pred)\n",
        "print(\"Accuracy:\", accuracy)\n",
        "print(\"MEDIAN:\", np.median(y))\n",
        "print(\"STD:\", np.std(y))\n",
        "\n"
      ],
      "metadata": {
        "id": "FNqKyo8NykxA",
        "colab": {
          "base_uri": "https://localhost:8080/"
        },
        "outputId": "8c76f85e-1ec3-494a-e606-194a70f7c43a"
      },
      "execution_count": null,
      "outputs": [
        {
          "output_type": "stream",
          "name": "stdout",
          "text": [
            "0       59.0\n",
            "1      118.0\n",
            "2      110.0\n",
            "3       89.1\n",
            "4      145.0\n",
            "       ...  \n",
            "108     99.6\n",
            "109     79.4\n",
            "110     97.1\n",
            "111    117.0\n",
            "112     89.2\n",
            "Name: Ab40, Length: 113, dtype: float64\n",
            "Accuracy: 8336.687427688661\n",
            "MEDIAN: 96.9\n",
            "STD: 51.05501859409316\n"
          ]
        }
      ]
    },
    {
      "cell_type": "code",
      "source": [],
      "metadata": {
        "id": "o9LRGtCkfvqm"
      },
      "execution_count": null,
      "outputs": []
    },
    {
      "cell_type": "code",
      "source": [],
      "metadata": {
        "id": "5m4mkIOZfwAd"
      },
      "execution_count": null,
      "outputs": []
    },
    {
      "cell_type": "markdown",
      "source": [
        "Reference: https://colab.research.google.com/github/jakevdp/PythonDataScienceHandbook/blob/master/notebooks/05.07-Support-Vector-Machines.ipynb#scrollTo=EXxuhmx1ySBD"
      ],
      "metadata": {
        "id": "0pnYfgax0CCh"
      }
    }
  ]
}